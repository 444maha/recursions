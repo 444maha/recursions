{
 "cells": [
  {
   "cell_type": "code",
   "execution_count": 12,
   "id": "37f26b21-256d-45a7-b55e-8a829c0cddea",
   "metadata": {},
   "outputs": [
    {
     "name": "stdin",
     "output_type": "stream",
     "text": [
      "enter number of terms to print: 7\n"
     ]
    },
    {
     "name": "stdout",
     "output_type": "stream",
     "text": [
      "fibonacci series......\n",
      "0 1 1 2 3 5 8 "
     ]
    }
   ],
   "source": [
    "# fib on tree recursions 0 1 1 2 3 5 8\n",
    "def fib(n):\n",
    "    if n<=1:\n",
    "        return n\n",
    "    return fib(n-1)+fib(n-2)\n",
    "terms=int(input(\"enter number of terms to print:\"))\n",
    "print((\"fibonacci series......\"))\n",
    "for i in range(terms):\n",
    "    print(fib(i), end= ' ')\n",
    "         "
   ]
  },
  {
   "cell_type": "code",
   "execution_count": 20,
   "id": "b643607c-fc2b-4969-9aa6-a2590c9c9ac8",
   "metadata": {},
   "outputs": [
    {
     "name": "stdin",
     "output_type": "stream",
     "text": [
      "enter a name/word: hima\n"
     ]
    },
    {
     "name": "stdout",
     "output_type": "stream",
     "text": [
      "possibilities of combinations........\n",
      " hima\n",
      " hiam\n",
      " hmia\n",
      " hmai\n",
      " haim\n",
      " hami\n",
      " ihma\n",
      " iham\n",
      " imha\n",
      " imah\n",
      " iahm\n",
      " iamh\n",
      " mhia\n",
      " mhai\n",
      " miha\n",
      " miah\n",
      " mahi\n",
      " maih\n",
      " ahim\n",
      " ahmi\n",
      " aihm\n",
      " aimh\n",
      " amhi\n",
      " amih\n"
     ]
    }
   ],
   "source": [
    "def permute(s,bucket=' '):\n",
    "    if not s:\n",
    "        print(bucket)\n",
    "        return\n",
    "    for i in range(len(s)):\n",
    "        ns=s[:i]+s[i+1:]\n",
    "        permute(ns,bucket+s[i])\n",
    "text=input(\"enter a name/word:\")\n",
    "print(\"possibilities of combinations........\")\n",
    "permute(text)\n"
   ]
  },
  {
   "cell_type": "code",
   "execution_count": 9,
   "id": "590e841a-4827-481e-947f-a7d9938ba68b",
   "metadata": {},
   "outputs": [
    {
     "name": "stdin",
     "output_type": "stream",
     "text": [
      "enter length of string: 4\n"
     ]
    },
    {
     "name": "stdout",
     "output_type": "stream",
     "text": [
      "binary combinations......\n",
      " 0000\n",
      " 0001\n",
      " 0010\n",
      " 0011\n",
      " 0100\n",
      " 0101\n",
      " 0110\n",
      " 0111\n",
      " 1000\n",
      " 1001\n",
      " 1010\n",
      " 1011\n",
      " 1100\n",
      " 1101\n",
      " 1110\n",
      " 1111\n"
     ]
    }
   ],
   "source": [
    "def binary(n,b=' '):\n",
    "    if n==0:\n",
    "        print(b)\n",
    "        return(b)\n",
    "    binary(n-1,b+'0')\n",
    "    binary(n-1,b+'1')\n",
    "length=int(input(\"enter length of string:\"))\n",
    "print(\"binary combinations......\")\n",
    "binary(length)"
   ]
  },
  {
   "cell_type": "code",
   "execution_count": null,
   "id": "637f910e-d7d4-4dff-8ac7-cd84c8fddd7c",
   "metadata": {},
   "outputs": [],
   "source": []
  }
 ],
 "metadata": {
  "kernelspec": {
   "display_name": "Python 3 (ipykernel)",
   "language": "python",
   "name": "python3"
  },
  "language_info": {
   "codemirror_mode": {
    "name": "ipython",
    "version": 3
   },
   "file_extension": ".py",
   "mimetype": "text/x-python",
   "name": "python",
   "nbconvert_exporter": "python",
   "pygments_lexer": "ipython3",
   "version": "3.12.7"
  }
 },
 "nbformat": 4,
 "nbformat_minor": 5
}
